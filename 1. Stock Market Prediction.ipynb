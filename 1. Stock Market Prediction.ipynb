{
 "cells": [
  {
   "cell_type": "code",
   "execution_count": 2,
   "metadata": {},
   "outputs": [
    {
     "name": "stdout",
     "output_type": "stream",
     "text": [
      "Collecting pandas_datareader\n",
      "  Downloading pandas_datareader-0.10.0-py3-none-any.whl (109 kB)\n",
      "     ------------------------------------ 109.5/109.5 kB 636.0 kB/s eta 0:00:00\n",
      "Requirement already satisfied: lxml in c:\\users\\kalyan\\anaconda3\\lib\\site-packages (from pandas_datareader) (4.9.1)\n",
      "Requirement already satisfied: requests>=2.19.0 in c:\\users\\kalyan\\anaconda3\\lib\\site-packages (from pandas_datareader) (2.28.1)\n",
      "Requirement already satisfied: pandas>=0.23 in c:\\users\\kalyan\\anaconda3\\lib\\site-packages (from pandas_datareader) (1.5.3)\n",
      "Requirement already satisfied: numpy>=1.21.0 in c:\\users\\kalyan\\anaconda3\\lib\\site-packages (from pandas>=0.23->pandas_datareader) (1.23.5)\n",
      "Requirement already satisfied: python-dateutil>=2.8.1 in c:\\users\\kalyan\\anaconda3\\lib\\site-packages (from pandas>=0.23->pandas_datareader) (2.8.2)\n",
      "Requirement already satisfied: pytz>=2020.1 in c:\\users\\kalyan\\anaconda3\\lib\\site-packages (from pandas>=0.23->pandas_datareader) (2022.7)\n",
      "Requirement already satisfied: certifi>=2017.4.17 in c:\\users\\kalyan\\anaconda3\\lib\\site-packages (from requests>=2.19.0->pandas_datareader) (2023.5.7)\n",
      "Requirement already satisfied: idna<4,>=2.5 in c:\\users\\kalyan\\anaconda3\\lib\\site-packages (from requests>=2.19.0->pandas_datareader) (3.4)\n",
      "Requirement already satisfied: urllib3<1.27,>=1.21.1 in c:\\users\\kalyan\\anaconda3\\lib\\site-packages (from requests>=2.19.0->pandas_datareader) (1.26.14)\n",
      "Requirement already satisfied: charset-normalizer<3,>=2 in c:\\users\\kalyan\\anaconda3\\lib\\site-packages (from requests>=2.19.0->pandas_datareader) (2.0.4)\n",
      "Requirement already satisfied: six>=1.5 in c:\\users\\kalyan\\anaconda3\\lib\\site-packages (from python-dateutil>=2.8.1->pandas>=0.23->pandas_datareader) (1.16.0)\n",
      "Installing collected packages: pandas_datareader\n",
      "Successfully installed pandas_datareader-0.10.0\n",
      "Note: you may need to restart the kernel to use updated packages.\n"
     ]
    }
   ],
   "source": [
    "pip install pandas_datareader"
   ]
  },
  {
   "cell_type": "code",
   "execution_count": 3,
   "metadata": {
    "_cell_guid": "b1076dfc-b9ad-4769-8c92-a6c4dae69d19",
    "_uuid": "8f2839f25d086af736a60e9eeb907d3b93b6e0e5",
    "execution": {
     "iopub.execute_input": "2023-04-08T14:09:26.194430Z",
     "iopub.status.busy": "2023-04-08T14:09:26.193399Z",
     "iopub.status.idle": "2023-04-08T14:09:32.669232Z",
     "shell.execute_reply": "2023-04-08T14:09:32.669781Z",
     "shell.execute_reply.started": "2023-04-06T08:20:46.682192Z"
    },
    "papermill": {
     "duration": 6.498168,
     "end_time": "2023-04-08T14:09:32.670175",
     "exception": false,
     "start_time": "2023-04-08T14:09:26.172007",
     "status": "completed"
    },
    "tags": []
   },
   "outputs": [],
   "source": [
    "import numpy as np\n",
    "import pandas as pd\n",
    "\n",
    "import os\n",
    "import matplotlib.pyplot as plt\n",
    "import pandas_datareader as web\n",
    "import datetime as dt\n",
    "\n",
    "from sklearn.preprocessing import MinMaxScaler\n",
    "from tensorflow.keras.models import Sequential\n",
    "from tensorflow.keras.layers import Dense, Dropout, LSTM\n",
    "from tensorflow.keras.callbacks import ModelCheckpoint, EarlyStopping"
   ]
  },
  {
   "cell_type": "code",
   "execution_count": 5,
   "metadata": {
    "execution": {
     "iopub.execute_input": "2023-04-08T14:09:32.781736Z",
     "iopub.status.busy": "2023-04-08T14:09:32.781088Z",
     "iopub.status.idle": "2023-04-08T14:09:33.034825Z",
     "shell.execute_reply": "2023-04-08T14:09:33.034267Z",
     "shell.execute_reply.started": "2023-04-06T08:20:54.143288Z"
    },
    "papermill": {
     "duration": 0.274364,
     "end_time": "2023-04-08T14:09:33.034994",
     "exception": false,
     "start_time": "2023-04-08T14:09:32.760630",
     "status": "completed"
    },
    "tags": []
   },
   "outputs": [],
   "source": [
    "# Load csv\n",
    "df = pd.read_csv(r\"C:\\Users\\KALYAN\\Desktop\\preprocessed_CAC40.csv\", parse_dates=['Date'])"
   ]
  },
  {
   "cell_type": "code",
   "execution_count": 6,
   "metadata": {
    "execution": {
     "iopub.execute_input": "2023-04-08T14:09:33.077839Z",
     "iopub.status.busy": "2023-04-08T14:09:33.077136Z",
     "iopub.status.idle": "2023-04-08T14:09:33.079741Z",
     "shell.execute_reply": "2023-04-08T14:09:33.080377Z",
     "shell.execute_reply.started": "2023-04-06T08:20:54.413993Z"
    },
    "papermill": {
     "duration": 0.027658,
     "end_time": "2023-04-08T14:09:33.080567",
     "exception": false,
     "start_time": "2023-04-08T14:09:33.052909",
     "status": "completed"
    },
    "tags": []
   },
   "outputs": [],
   "source": [
    "def load_data(company, start, end):\n",
    "    \"\"\"\n",
    "    Load data for the specified company and date range.\n",
    "\n",
    "    :param company: The company's stock symbol (str)\n",
    "    :param start: The starting date for the data range (str or datetime)\n",
    "    :param end: The ending date for the data range (str or datetime)\n",
    "    :return: A dataframe containing the relevant stock data (pandas.DataFrame)\n",
    "    \"\"\"\n",
    "    dataframe = df.copy()\n",
    "    dataframe = dataframe.loc[dataframe.Name == company, :]\n",
    "    dataframe = dataframe.loc[(dataframe['Date'] > start) & (dataframe['Date'] < end), :]\n",
    "    dataframe = dataframe.rename(columns = {'Closing_Price': 'Close'})\n",
    "    return dataframe"
   ]
  },
  {
   "cell_type": "code",
   "execution_count": 7,
   "metadata": {
    "execution": {
     "iopub.execute_input": "2023-04-08T14:09:33.119642Z",
     "iopub.status.busy": "2023-04-08T14:09:33.118992Z",
     "iopub.status.idle": "2023-04-08T14:09:33.123012Z",
     "shell.execute_reply": "2023-04-08T14:09:33.123629Z",
     "shell.execute_reply.started": "2023-04-06T08:20:54.422222Z"
    },
    "papermill": {
     "duration": 0.025211,
     "end_time": "2023-04-08T14:09:33.123813",
     "exception": false,
     "start_time": "2023-04-08T14:09:33.098602",
     "status": "completed"
    },
    "tags": []
   },
   "outputs": [],
   "source": [
    "COMPANY = 'Accor'\n",
    "START_DATE = dt.datetime(2015,1,1)\n",
    "END_DATE = dt.datetime(2020,1,1)\n",
    "\n",
    "START_DATE_TEST = END_DATE"
   ]
  },
  {
   "cell_type": "code",
   "execution_count": 8,
   "metadata": {
    "execution": {
     "iopub.execute_input": "2023-04-08T14:09:33.163978Z",
     "iopub.status.busy": "2023-04-08T14:09:33.163352Z",
     "iopub.status.idle": "2023-04-08T14:09:33.192099Z",
     "shell.execute_reply": "2023-04-08T14:09:33.191385Z",
     "shell.execute_reply.started": "2023-04-06T08:20:54.438452Z"
    },
    "papermill": {
     "duration": 0.050203,
     "end_time": "2023-04-08T14:09:33.192252",
     "exception": false,
     "start_time": "2023-04-08T14:09:33.142049",
     "status": "completed"
    },
    "tags": []
   },
   "outputs": [],
   "source": [
    "data = load_data(company = COMPANY,\n",
    "                 start = START_DATE,\n",
    "                 end = END_DATE)"
   ]
  },
  {
   "cell_type": "code",
   "execution_count": 9,
   "metadata": {
    "execution": {
     "iopub.execute_input": "2023-04-08T14:09:33.235260Z",
     "iopub.status.busy": "2023-04-08T14:09:33.234528Z",
     "iopub.status.idle": "2023-04-08T14:09:33.237941Z",
     "shell.execute_reply": "2023-04-08T14:09:33.237315Z",
     "shell.execute_reply.started": "2023-04-06T08:20:54.476797Z"
    },
    "papermill": {
     "duration": 0.027862,
     "end_time": "2023-04-08T14:09:33.238107",
     "exception": false,
     "start_time": "2023-04-08T14:09:33.210245",
     "status": "completed"
    },
    "tags": []
   },
   "outputs": [],
   "source": [
    "# Normalize data\n",
    "scaler = MinMaxScaler(feature_range=(0,1))\n",
    "scaled_data = scaler.fit_transform(data['Close'].values.reshape(-1,1))"
   ]
  },
  {
   "cell_type": "code",
   "execution_count": 10,
   "metadata": {
    "execution": {
     "iopub.execute_input": "2023-04-08T14:09:33.281690Z",
     "iopub.status.busy": "2023-04-08T14:09:33.280967Z",
     "iopub.status.idle": "2023-04-08T14:09:33.285848Z",
     "shell.execute_reply": "2023-04-08T14:09:33.285273Z",
     "shell.execute_reply.started": "2023-04-06T08:20:54.485837Z"
    },
    "papermill": {
     "duration": 0.030067,
     "end_time": "2023-04-08T14:09:33.286004",
     "exception": false,
     "start_time": "2023-04-08T14:09:33.255937",
     "status": "completed"
    },
    "tags": []
   },
   "outputs": [],
   "source": [
    "# Set the number of days used for prediction\n",
    "prediction_days = 60\n",
    "\n",
    "# Initialize empty lists for training data input and output\n",
    "x_train = []\n",
    "y_train = []\n",
    "\n",
    "# Iterate through the scaled data, starting from the prediction_days index\n",
    "for x in range(prediction_days, len(scaled_data)):\n",
    "    # Append the previous 'prediction_days' values to x_train\n",
    "    x_train.append(scaled_data[x - prediction_days:x, 0])\n",
    "    # Append the current value to y_train\n",
    "    y_train.append(scaled_data[x, 0])\n",
    "\n",
    "# Convert the x_train and y_train lists to numpy arrays\n",
    "x_train, y_train = np.array(x_train), np.array(y_train)\n",
    "\n",
    "# Reshape x_train to a 3D array with the appropriate dimensions for the LSTM model\n",
    "x_train = np.reshape(x_train, (x_train.shape[0], x_train.shape[1], 1))"
   ]
  },
  {
   "cell_type": "markdown",
   "metadata": {
    "papermill": {
     "duration": 0.017629,
     "end_time": "2023-04-08T14:09:33.321950",
     "exception": false,
     "start_time": "2023-04-08T14:09:33.304321",
     "status": "completed"
    },
    "tags": []
   },
   "source": [
    "**<font size=\"2\"><a href=\"#summary\">Back to summary</a></font>**\n",
    "\n",
    "----"
   ]
  },
  {
   "cell_type": "code",
   "execution_count": 11,
   "metadata": {
    "execution": {
     "iopub.execute_input": "2023-04-08T14:09:33.471455Z",
     "iopub.status.busy": "2023-04-08T14:09:33.470469Z",
     "iopub.status.idle": "2023-04-08T14:09:33.473726Z",
     "shell.execute_reply": "2023-04-08T14:09:33.473234Z",
     "shell.execute_reply.started": "2023-04-06T08:20:54.499314Z"
    },
    "papermill": {
     "duration": 0.027615,
     "end_time": "2023-04-08T14:09:33.473880",
     "exception": false,
     "start_time": "2023-04-08T14:09:33.446265",
     "status": "completed"
    },
    "tags": []
   },
   "outputs": [],
   "source": [
    "def LSTM_model():\n",
    "    \"\"\"\n",
    "    Create and configure an LSTM model for stock price prediction.\n",
    "\n",
    "    :return: The configured LSTM model (keras.Sequential)\n",
    "    \"\"\"\n",
    "\n",
    "    # Initialize a sequential model\n",
    "    model = Sequential()\n",
    "\n",
    "    # Add the first LSTM layer with 50 units, input shape, and return sequences\n",
    "    model.add(LSTM(units=50, return_sequences=True, input_shape=(x_train.shape[1], 1)))\n",
    "    # Add dropout to prevent overfitting\n",
    "    model.add(Dropout(0.2))\n",
    "\n",
    "    # Add a second LSTM layer with 50 units and return sequences\n",
    "    model.add(LSTM(units=50, return_sequences=True))\n",
    "    # Add dropout to prevent overfitting\n",
    "    model.add(Dropout(0.2))\n",
    "\n",
    "    # Add a third LSTM layer with 50 units\n",
    "    model.add(LSTM(units=50))\n",
    "    # Add dropout to prevent overfitting\n",
    "    model.add(Dropout(0.2))\n",
    "\n",
    "    # Add a dense output layer with one unit\n",
    "    model.add(Dense(units=1))\n",
    "\n",
    "    return model"
   ]
  },
  {
   "cell_type": "code",
   "execution_count": 12,
   "metadata": {
    "execution": {
     "iopub.execute_input": "2023-04-08T14:09:33.583941Z",
     "iopub.status.busy": "2023-04-08T14:09:33.582928Z",
     "iopub.status.idle": "2023-04-08T14:09:34.420149Z",
     "shell.execute_reply": "2023-04-08T14:09:34.421025Z",
     "shell.execute_reply.started": "2023-04-06T08:20:54.516627Z"
    },
    "papermill": {
     "duration": 0.859032,
     "end_time": "2023-04-08T14:09:34.421351",
     "exception": false,
     "start_time": "2023-04-08T14:09:33.562319",
     "status": "completed"
    },
    "tags": []
   },
   "outputs": [
    {
     "name": "stdout",
     "output_type": "stream",
     "text": [
      "Model: \"sequential\"\n",
      "_________________________________________________________________\n",
      " Layer (type)                Output Shape              Param #   \n",
      "=================================================================\n",
      " lstm (LSTM)                 (None, 60, 50)            10400     \n",
      "                                                                 \n",
      " dropout (Dropout)           (None, 60, 50)            0         \n",
      "                                                                 \n",
      " lstm_1 (LSTM)               (None, 60, 50)            20200     \n",
      "                                                                 \n",
      " dropout_1 (Dropout)         (None, 60, 50)            0         \n",
      "                                                                 \n",
      " lstm_2 (LSTM)               (None, 50)                20200     \n",
      "                                                                 \n",
      " dropout_2 (Dropout)         (None, 50)                0         \n",
      "                                                                 \n",
      " dense (Dense)               (None, 1)                 51        \n",
      "                                                                 \n",
      "=================================================================\n",
      "Total params: 50,851\n",
      "Trainable params: 50,851\n",
      "Non-trainable params: 0\n",
      "_________________________________________________________________\n"
     ]
    }
   ],
   "source": [
    "model = LSTM_model()\n",
    "model.summary()\n",
    "model.compile(\n",
    "    optimizer='adam', \n",
    "    loss='mean_squared_error'\n",
    ")"
   ]
  },
  {
   "cell_type": "code",
   "execution_count": 13,
   "metadata": {
    "execution": {
     "iopub.execute_input": "2023-04-08T14:09:34.464644Z",
     "iopub.status.busy": "2023-04-08T14:09:34.463817Z",
     "iopub.status.idle": "2023-04-08T14:10:54.408910Z",
     "shell.execute_reply": "2023-04-08T14:10:54.409510Z",
     "shell.execute_reply.started": "2023-04-06T08:20:55.397258Z"
    },
    "papermill": {
     "duration": 79.969351,
     "end_time": "2023-04-08T14:10:54.409734",
     "exception": false,
     "start_time": "2023-04-08T14:09:34.440383",
     "status": "completed"
    },
    "tags": []
   },
   "outputs": [
    {
     "name": "stdout",
     "output_type": "stream",
     "text": [
      "Epoch 1/25\n",
      "38/38 [==============================] - ETA: 0s - loss: 0.0373WARNING:tensorflow:Can save best model only with val_loss available, skipping.\n",
      "38/38 [==============================] - 18s 121ms/step - loss: 0.0373\n",
      "Epoch 2/25\n",
      "38/38 [==============================] - ETA: 0s - loss: 0.0116WARNING:tensorflow:Can save best model only with val_loss available, skipping.\n",
      "38/38 [==============================] - 4s 118ms/step - loss: 0.0116\n",
      "Epoch 3/25\n",
      "38/38 [==============================] - ETA: 0s - loss: 0.0098WARNING:tensorflow:Can save best model only with val_loss available, skipping.\n",
      "38/38 [==============================] - 5s 126ms/step - loss: 0.0098\n",
      "Epoch 4/25\n",
      "38/38 [==============================] - ETA: 0s - loss: 0.0097WARNING:tensorflow:Can save best model only with val_loss available, skipping.\n",
      "38/38 [==============================] - 5s 119ms/step - loss: 0.0097\n",
      "Epoch 5/25\n",
      "38/38 [==============================] - ETA: 0s - loss: 0.0086WARNING:tensorflow:Can save best model only with val_loss available, skipping.\n",
      "38/38 [==============================] - 5s 121ms/step - loss: 0.0086\n",
      "Epoch 6/25\n",
      "38/38 [==============================] - ETA: 0s - loss: 0.0086WARNING:tensorflow:Can save best model only with val_loss available, skipping.\n",
      "38/38 [==============================] - 5s 124ms/step - loss: 0.0086\n",
      "Epoch 7/25\n",
      "38/38 [==============================] - ETA: 0s - loss: 0.0086WARNING:tensorflow:Can save best model only with val_loss available, skipping.\n",
      "38/38 [==============================] - 5s 124ms/step - loss: 0.0086\n",
      "Epoch 8/25\n",
      "38/38 [==============================] - ETA: 0s - loss: 0.0075WARNING:tensorflow:Can save best model only with val_loss available, skipping.\n",
      "38/38 [==============================] - 5s 130ms/step - loss: 0.0075\n",
      "Epoch 9/25\n",
      "38/38 [==============================] - ETA: 0s - loss: 0.0068WARNING:tensorflow:Can save best model only with val_loss available, skipping.\n",
      "38/38 [==============================] - 5s 131ms/step - loss: 0.0068\n",
      "Epoch 10/25\n",
      "38/38 [==============================] - ETA: 0s - loss: 0.0070WARNING:tensorflow:Can save best model only with val_loss available, skipping.\n",
      "38/38 [==============================] - 5s 131ms/step - loss: 0.0070\n",
      "Epoch 11/25\n",
      "38/38 [==============================] - ETA: 0s - loss: 0.0067WARNING:tensorflow:Can save best model only with val_loss available, skipping.\n",
      "38/38 [==============================] - 5s 130ms/step - loss: 0.0067\n",
      "Epoch 12/25\n",
      "38/38 [==============================] - ETA: 0s - loss: 0.0072WARNING:tensorflow:Can save best model only with val_loss available, skipping.\n",
      "38/38 [==============================] - 5s 131ms/step - loss: 0.0072\n",
      "Epoch 13/25\n",
      "38/38 [==============================] - ETA: 0s - loss: 0.0073WARNING:tensorflow:Can save best model only with val_loss available, skipping.\n",
      "38/38 [==============================] - 5s 131ms/step - loss: 0.0073\n",
      "Epoch 14/25\n",
      "38/38 [==============================] - ETA: 0s - loss: 0.0059WARNING:tensorflow:Can save best model only with val_loss available, skipping.\n",
      "38/38 [==============================] - 5s 130ms/step - loss: 0.0059\n",
      "Epoch 15/25\n",
      "38/38 [==============================] - ETA: 0s - loss: 0.0056WARNING:tensorflow:Can save best model only with val_loss available, skipping.\n",
      "38/38 [==============================] - 5s 123ms/step - loss: 0.0056\n",
      "Epoch 16/25\n",
      "38/38 [==============================] - ETA: 0s - loss: 0.0057WARNING:tensorflow:Can save best model only with val_loss available, skipping.\n",
      "38/38 [==============================] - 5s 130ms/step - loss: 0.0057\n",
      "Epoch 17/25\n",
      "38/38 [==============================] - ETA: 0s - loss: 0.0056WARNING:tensorflow:Can save best model only with val_loss available, skipping.\n",
      "38/38 [==============================] - 5s 129ms/step - loss: 0.0056\n",
      "Epoch 18/25\n",
      "38/38 [==============================] - ETA: 0s - loss: 0.0054WARNING:tensorflow:Can save best model only with val_loss available, skipping.\n",
      "38/38 [==============================] - 5s 130ms/step - loss: 0.0054\n",
      "Epoch 19/25\n",
      "38/38 [==============================] - ETA: 0s - loss: 0.0057WARNING:tensorflow:Can save best model only with val_loss available, skipping.\n",
      "38/38 [==============================] - 5s 130ms/step - loss: 0.0057\n",
      "Epoch 20/25\n",
      "38/38 [==============================] - ETA: 0s - loss: 0.0051WARNING:tensorflow:Can save best model only with val_loss available, skipping.\n",
      "38/38 [==============================] - 5s 130ms/step - loss: 0.0051\n",
      "Epoch 21/25\n",
      "38/38 [==============================] - ETA: 0s - loss: 0.0053WARNING:tensorflow:Can save best model only with val_loss available, skipping.\n",
      "38/38 [==============================] - 5s 131ms/step - loss: 0.0053\n",
      "Epoch 22/25\n",
      "38/38 [==============================] - ETA: 0s - loss: 0.0049WARNING:tensorflow:Can save best model only with val_loss available, skipping.\n",
      "38/38 [==============================] - 5s 130ms/step - loss: 0.0049\n",
      "Epoch 23/25\n",
      "38/38 [==============================] - ETA: 0s - loss: 0.0049WARNING:tensorflow:Can save best model only with val_loss available, skipping.\n",
      "38/38 [==============================] - 5s 130ms/step - loss: 0.0049\n",
      "Epoch 24/25\n",
      "38/38 [==============================] - ETA: 0s - loss: 0.0049WARNING:tensorflow:Can save best model only with val_loss available, skipping.\n",
      "38/38 [==============================] - 5s 130ms/step - loss: 0.0049\n",
      "Epoch 25/25\n",
      "38/38 [==============================] - ETA: 0s - loss: 0.0045WARNING:tensorflow:Can save best model only with val_loss available, skipping.\n",
      "38/38 [==============================] - 5s 127ms/step - loss: 0.0045\n"
     ]
    },
    {
     "data": {
      "text/plain": [
       "<keras.callbacks.History at 0x1e5219ced40>"
      ]
     },
     "execution_count": 13,
     "metadata": {},
     "output_type": "execute_result"
    }
   ],
   "source": [
    "# Define callbacks\n",
    "\n",
    "# Save weights only for best model\n",
    "checkpointer = ModelCheckpoint(\n",
    "    filepath = 'weights_best.hdf5', \n",
    "    verbose = 2, \n",
    "    save_best_only = True\n",
    ")\n",
    "\n",
    "model.fit(\n",
    "    x_train, \n",
    "    y_train, \n",
    "    epochs=25, \n",
    "    batch_size = 32,\n",
    "    callbacks = [checkpointer]\n",
    ")"
   ]
  },
  {
   "cell_type": "code",
   "execution_count": 15,
   "metadata": {
    "execution": {
     "iopub.execute_input": "2023-04-08T14:10:56.197139Z",
     "iopub.status.busy": "2023-04-08T14:10:56.196394Z",
     "iopub.status.idle": "2023-04-08T14:10:56.219915Z",
     "shell.execute_reply": "2023-04-08T14:10:56.219225Z",
     "shell.execute_reply.started": "2023-04-06T08:22:19.393328Z"
    },
    "papermill": {
     "duration": 0.330511,
     "end_time": "2023-04-08T14:10:56.220115",
     "exception": false,
     "start_time": "2023-04-08T14:10:55.889604",
     "status": "completed"
    },
    "tags": []
   },
   "outputs": [],
   "source": [
    "# Load test data for the specified company and date range\n",
    "test_data = load_data(\n",
    "    company=COMPANY,\n",
    "    start=START_DATE_TEST,\n",
    "    end=dt.datetime.now()\n",
    ")\n",
    "\n",
    "# Extract the actual closing prices from the test data\n",
    "actual_prices = test_data['Close'].values\n",
    "\n",
    "# Concatenate the training and test data along the 'Close' column\n",
    "total_dataset = pd.concat((data['Close'], test_data['Close']), axis=0)\n",
    "\n",
    "# Extract the relevant portion of the dataset for model inputs\n",
    "model_inputs = total_dataset[len(total_dataset) - len(test_data) - prediction_days:].values\n",
    "\n",
    "# Reshape the model inputs to a 2D array with a single column\n",
    "model_inputs = model_inputs.reshape(-1, 1)\n",
    "\n",
    "# Apply the same scaling used for training data to the model inputs\n",
    "model_inputs = scaler.transform(model_inputs)"
   ]
  },
  {
   "cell_type": "code",
   "execution_count": 16,
   "metadata": {
    "execution": {
     "iopub.execute_input": "2023-04-08T14:10:56.832577Z",
     "iopub.status.busy": "2023-04-08T14:10:56.831579Z",
     "iopub.status.idle": "2023-04-08T14:10:57.926784Z",
     "shell.execute_reply": "2023-04-08T14:10:57.926118Z",
     "shell.execute_reply.started": "2023-04-06T08:22:19.420759Z"
    },
    "papermill": {
     "duration": 1.401348,
     "end_time": "2023-04-08T14:10:57.926956",
     "exception": false,
     "start_time": "2023-04-08T14:10:56.525608",
     "status": "completed"
    },
    "tags": []
   },
   "outputs": [
    {
     "name": "stdout",
     "output_type": "stream",
     "text": [
      "3/3 [==============================] - 3s 36ms/step\n"
     ]
    }
   ],
   "source": [
    "# Initialize an empty list for test data input\n",
    "x_test = []\n",
    "\n",
    "# Iterate through the model inputs, starting from the prediction_days index\n",
    "for x in range(prediction_days, len(model_inputs)):\n",
    "    # Append the previous 'prediction_days' values to x_test\n",
    "    x_test.append(model_inputs[x-prediction_days:x, 0])\n",
    "\n",
    "# Convert the x_test list to a numpy array\n",
    "x_test = np.array(x_test)\n",
    "\n",
    "# Reshape x_test to a 3D array with the appropriate dimensions for the LSTM model\n",
    "x_test = np.reshape(x_test, (x_test.shape[0], x_test.shape[1], 1))\n",
    "\n",
    "# Generate price predictions using the LSTM model\n",
    "predicted_prices = model.predict(x_test)\n",
    "\n",
    "# Invert the scaling applied to the predicted prices to obtain actual values\n",
    "predicted_prices = scaler.inverse_transform(predicted_prices)"
   ]
  },
  {
   "cell_type": "code",
   "execution_count": 17,
   "metadata": {
    "execution": {
     "iopub.execute_input": "2023-04-08T14:10:58.560760Z",
     "iopub.status.busy": "2023-04-08T14:10:58.560010Z",
     "iopub.status.idle": "2023-04-08T14:10:58.785762Z",
     "shell.execute_reply": "2023-04-08T14:10:58.786270Z",
     "shell.execute_reply.started": "2023-04-06T08:22:20.514887Z"
    },
    "papermill": {
     "duration": 0.561567,
     "end_time": "2023-04-08T14:10:58.786466",
     "exception": false,
     "start_time": "2023-04-08T14:10:58.224899",
     "status": "completed"
    },
    "tags": []
   },
   "outputs": [
    {
     "data": {
      "image/png": "[encoded data removed]",
      "text/plain": [
       "<Figure size 640x480 with 1 Axes>"
      ]
     },
     "metadata": {},
     "output_type": "display_data"
    }
   ],
   "source": [
    "# Plot the actual prices using a black line\n",
    "plt.plot(actual_prices, color='black', label=f\"Actual {COMPANY} price\")\n",
    "\n",
    "# Plot the predicted prices using a green line\n",
    "plt.plot(predicted_prices, color='green', label=f\"Predicted {COMPANY} price\")\n",
    "\n",
    "# Set the title of the plot using the company name\n",
    "plt.title(f\"{COMPANY} share price\")\n",
    "\n",
    "# Set the x-axis label as 'time'\n",
    "plt.xlabel(\"time\")\n",
    "\n",
    "# Set the y-axis label using the company name\n",
    "plt.ylabel(f\"{COMPANY} share price\")\n",
    "\n",
    "# Display a legend to differentiate the actual and predicted prices\n",
    "plt.legend()\n",
    "\n",
    "# Show the plot on the screen\n",
    "plt.show()"
   ]
  },
  {
   "cell_type": "code",
   "execution_count": 18,
   "metadata": {
    "execution": {
     "iopub.execute_input": "2023-04-08T14:10:59.396301Z",
     "iopub.status.busy": "2023-04-08T14:10:59.395580Z",
     "iopub.status.idle": "2023-04-08T14:11:00.413231Z",
     "shell.execute_reply": "2023-04-08T14:11:00.413896Z",
     "shell.execute_reply.started": "2023-04-06T08:22:20.755562Z"
    },
    "papermill": {
     "duration": 1.324879,
     "end_time": "2023-04-08T14:11:00.414122",
     "exception": false,
     "start_time": "2023-04-08T14:10:59.089243",
     "status": "completed"
    },
    "tags": []
   },
   "outputs": [
    {
     "name": "stdout",
     "output_type": "stream",
     "text": [
      "1/1 [==============================] - 3s 3s/step\n",
      "Prediction: 40.55036544799805\n"
     ]
    }
   ],
   "source": [
    "# Extract the last 'prediction_days' values from the model inputs\n",
    "real_data = [model_inputs[len(model_inputs) + 1 - prediction_days:len(model_inputs + 1), 0]]\n",
    "\n",
    "# Convert the real_data list to a numpy array\n",
    "real_data = np.array(real_data)\n",
    "\n",
    "# Reshape real_data to a 3D array with the appropriate dimensions for the LSTM model\n",
    "real_data = np.reshape(real_data, (real_data.shape[0], real_data.shape[1], 1))\n",
    "\n",
    "# Generate a prediction using the LSTM model with the real_data input\n",
    "prediction = model.predict(real_data)\n",
    "\n",
    "# Invert the scaling applied to the prediction to obtain the actual value\n",
    "prediction = scaler.inverse_transform(prediction)\n",
    "\n",
    "# Print the prediction result to the console\n",
    "print(f\"Prediction: {prediction[0][0]}\")"
   ]
  }
 ],
 "metadata": {
  "kernelspec": {
   "display_name": "Python 3 (ipykernel)",
   "language": "python",
   "name": "python3"
  },
  "language_info": {
   "codemirror_mode": {
    "name": "ipython",
    "version": 3
   },
   "file_extension": ".py",
   "mimetype": "text/x-python",
   "name": "python",
   "nbconvert_exporter": "python",
   "pygments_lexer": "ipython3",
   "version": "3.10.9"
  },
  "papermill": {
   "default_parameters": {},
   "duration": 103.659534,
   "end_time": "2023-04-08T14:11:03.925756",
   "environment_variables": {},
   "exception": null,
   "input_path": "__notebook__.ipynb",
   "output_path": "__notebook__.ipynb",
   "parameters": {},
   "start_time": "2023-04-08T14:09:20.266222",
   "version": "2.2.2"
  }
 },
 "nbformat": 4,
 "nbformat_minor": 4
}
